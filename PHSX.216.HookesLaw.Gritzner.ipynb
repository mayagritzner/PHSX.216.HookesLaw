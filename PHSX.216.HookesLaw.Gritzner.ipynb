{
 "cells": [
  {
   "cell_type": "markdown",
   "metadata": {},
   "source": [
    "# Method 1:  Determine k for spring 1 and 2"
   ]
  },
  {
   "cell_type": "code",
   "execution_count": 6,
   "metadata": {},
   "outputs": [
    {
     "data": {
      "image/png": "[encoded data removed]",
      "text/plain": [
       "<Figure size 432x288 with 1 Axes>"
      ]
     },
     "metadata": {
      "needs_background": "light"
     },
     "output_type": "display_data"
    },
    {
     "name": "stdout",
     "output_type": "stream",
     "text": [
      "Slope = 52.10 N/m\n",
      "Error in slope = 0.01 N/m\n",
      "Goodness of fit = 248339.55\n"
     ]
    }
   ],
   "source": [
    "import physplot as phys\n",
    "import numpy as np\n",
    "\n",
    "#spring 1\n",
    "m1 = np.array([99.8,199.4,299.0,398.8,498.7,598.6,698.1,797.2,896.9])/1000\n",
    "x1 = np.array([0,2.2,3.9,5.9,8.0,10.3,11.5,13.4,14.7])/100\n",
    "errm = np.array([0.1,0.1,0.1,0.1,0.1,0.1,0.1,0.1,0.1])/1000\n",
    "\n",
    "#call the plotfit function from the physplot.py code\n",
    "#You can open that code to see how it works\n",
    "#This is what the plotfit function looks like.  Pass\n",
    "#in the parameters in the correct order\n",
    "#plotfit(x,y,dy,title,xlabel,ylabel,slopeunit)\n",
    "\n",
    "phys.plotfit(x1,m1*9.8,errm*9.8,'Small k spring','x(m)','F(N)','N/m')\n"
   ]
  },
  {
   "cell_type": "code",
   "execution_count": null,
   "metadata": {},
   "outputs": [],
   "source": []
  },
  {
   "cell_type": "code",
   "execution_count": null,
   "metadata": {},
   "outputs": [],
   "source": []
  },
  {
   "cell_type": "code",
   "execution_count": null,
   "metadata": {},
   "outputs": [],
   "source": []
  },
  {
   "cell_type": "code",
   "execution_count": null,
   "metadata": {},
   "outputs": [],
   "source": []
  },
  {
   "cell_type": "code",
   "execution_count": null,
   "metadata": {},
   "outputs": [],
   "source": []
  },
  {
   "cell_type": "code",
   "execution_count": null,
   "metadata": {},
   "outputs": [],
   "source": []
  }
 ],
 "metadata": {
  "kernelspec": {
   "display_name": "Python 3 (ipykernel)",
   "language": "python",
   "name": "python3"
  },
  "language_info": {
   "codemirror_mode": {
    "name": "ipython",
    "version": 3
   },
   "file_extension": ".py",
   "mimetype": "text/x-python",
   "name": "python",
   "nbconvert_exporter": "python",
   "pygments_lexer": "ipython3",
   "version": "3.9.12"
  }
 },
 "nbformat": 4,
 "nbformat_minor": 2
}
